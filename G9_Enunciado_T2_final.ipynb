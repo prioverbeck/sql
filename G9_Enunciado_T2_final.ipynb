{
 "cells": [
  {
   "cell_type": "markdown",
   "metadata": {},
   "source": [
    "# Trabalho 2 - Python + MongoDB\n",
    "-----\n",
    "O objetivo deste trabalho é exercitar a utilização de banco de dados noSQL e manipulação de dados em Python. O dataset que será utilizado é o dataset de Comunicação de Acidentes do Trabalho, disponível no portal de dados aberto do Brasil: http://dados.gov.br\n",
    "O dataset original completo é composto por 3 trimestres de comunicação de acidentes de trabalho (Jul-Set 2018, Out-Dez 2018 e Jan-Mar 2019). Cada dupla, em sua área Oracle, tem acesso a um recorte deste dataset, com até 29.000 instâncias, aproximadamente. Além disso, o dataset foi enriquecido com dados de populações das respectivas cidades dos correspondentes empregadores (não, não tem a cidade onde ocorreu o acidente de trabalho; somente o estado).\n",
    "\n",
    "Abaixo, você encontra o passo a passo que deve ser seguido para realização do trabalho.\n",
    "\n",
    "\n",
    "## 1 - Exportar os dados do Oracle\n",
    "Você deve construir uma consulta que faça a junção entre os acidentes de trabalho disponíveis ao grupo e as populações dos municípios que aparecem no dataset, e exportar o resultados para `csv`. Ao exportar, definir delimitadores para não numéricos (\", por exemplo) e a codificação adequada ('cp1252' é adequada).\n",
    "\n",
    "\n",
    "## 2 - Ler o dataset e inserir no MongoDB\n",
    "\n",
    "Você deve ler o dataset exportado no passo anterior, transformar os dados em formato de documento e fazer upload para a coleção do seu grupo no mongoDB. O nome da coleção é `dupla_x_collection`. O seu usário do MongoDB é `dupla_x`. A senha você deve ter recebido no moodle. Caso não saiba a sua senha de acesso, pergunte aos professores. **x** é o número da sua dupla! \n",
    "\n",
    "Para conectar no MongoDB a partir do python, você pode utilizar o código abaixo:\n",
    "\n",
    "```python\n",
    "from pymongo import MongoClient\n",
    "user = 'dupla_x' # coloque o número da sua dupla aqui!\n",
    "pwd = 'senhaDaSuaDupla' # coloque a senha da sua dupla aqui!\n",
    "client = MongoClient('mongodb://{}:{}@ds151066.mlab.com:51066/datascience'.format(user, pwd))\n",
    "db = client.datascience\n",
    "\n",
    "# exemplo de consulta de documentos\n",
    "cursor = db.dupla_x_collection.find() # x é o numero da sua dupla!!\n",
    "```\n",
    "O espaço alocado no MongoDB (MLAB), para cada grupo, é suficiente para a carga do `csv`. \n",
    "\n",
    "\n",
    "## 2 - Responder as seguintes perguntas utilizando consultas ao MongoDB\n",
    "\n",
    "A dupla deve responder as seguintes perguntas, utilizando apenas consultas ao banco de dados.\n",
    "\n",
    "1. Quais os 10 municípios com maior taxa de acidentes por 100 mil habitantes?\n",
    "2. Quais as Naturezas das lesões, e correspondentes números de acidentes de trabalho, para naturezas de lesões cujo número de acidentes de trabalho é > 100?\n",
    "3. Quais os agentes causadores de acidentes, e correspondentes números de acidentes, por mês-ano e para acidentes com óbitos, onde o número de óbitos por agente causador é > 2?\n",
    "\n",
    "Dica: usem aggregate da API do MongoDB. Vejam mais informações em: \n",
    "https://docs.mongodb.com/manual/reference/method/db.collection.aggregate/\n",
    "e\n",
    "https://docs.mongodb.com/manual/reference/operator/aggregation-pipeline/\n",
    "\n",
    "\n",
    "## 3 - Responder as seguintes perguntas utilizando Python (Pandas, Numpy e Matplotlib)\n",
    "\n",
    "1. Quais os 10 municípios que mais possuem acidentes de trabalho? Faça um gráfico de barras para apresentar o resultado.\n",
    "2. Quais os 10 municípios que mais possuem acidentes de trabalho por 100 mil habitantes? Faça um gráfico de barras para apresentar o resultado.\n",
    "3. Qual a proporção de acidentes de trabalho em relação a cada estado? Faça um gráfico de pizza para mostrar o resultado.\n",
    "4. Qual a natureza da lesão mais comum nos acidentes?\n",
    "5. Qual é o comportamento do número de acidentes ao longo do tempo? Mostre a evolução do número de acientes utilizando um gráfico de linha.\n",
    " \n",
    "\n",
    "\n",
    "## Entrega\n",
    "A dupla deve entregar, **no moodle da disciplina de Banco de Dados Relacionais e Não Relacionais**, um **arquivo zip** com o seguinte nome: `dupla_x.zip`, onde **x** é o número da sua dupla. O arquivo `zip` deve conter os seguintes arquivos:\n",
    "* Um relatório em `pdf` contendo a definição da visão definida no Oracle, e os resultados obtidos nas consultas sobre o MongoDB via MLAB.\n",
    "* Este jupyter notebook contendo o código desenvolvido pela dupla.\n",
    "* O dataset em `csv` exportado do Oracle.\n",
    "\n",
    "<h3 style='color:red'>IMPORTANTE: A data de entrega do trabalho é 23/05.</h3>\n",
    "\n",
    "\n",
    "## Critérios de avaliação\n",
    "\n",
    "#### Critérios de avaliação da disciplina de Banco de Dados Relacionais e Não Relacionais\n",
    "- Visão adequada para exportação, contendo a junção do recorte de dados de acidentes de trabalho e as populações dos municípios: 15%\n",
    "- Arquivo `csv` exportado, com o conteúdo adequado: 10%\n",
    "- Resolução das consultas propostas: 75% (25% para cada uma)\n",
    "\n",
    "\n",
    "#### Critérios de avaliação da disciplina de Python Para Ciência de Dados\n",
    "A nota deste trabalho equivale ao **Trabalho 2 (T2)** da disciplinina de de Python Para Ciência de Dados. A pontuação será calculada sobre as questões mostradas no **item 3**, cada questão vale **2 pontos** e será avaliada de acordo com os seguintes critérios:\n",
    "\n",
    "- Resolver o problema proposto: 70%\n",
    "- Utilizar código vetorizado: 20%\n",
    "- Escrever código simples e legível: 10%"
   ]
  },
  {
   "cell_type": "markdown",
   "metadata": {},
   "source": [
    "### O seu código deve ser escrito nas células abaixo. Crie novas células conforme a necesidade de abstração. Evite escrever o código inteiro em uma única célula."
   ]
  },
  {
   "cell_type": "code",
   "execution_count": 4,
   "metadata": {},
   "outputs": [],
   "source": [
    "%matplotlib inline\n",
    "import numpy as np\n",
    "import pandas as pd\n",
    "import matplotlib.pyplot as plt\n",
    "from pymongo import MongoClient\n",
    "from IPython.display import display as print_dataframe\n"
   ]
  },
  {
   "cell_type": "markdown",
   "metadata": {},
   "source": [
    "\n",
    "\n",
    "# Respostas MongoDB"
   ]
  },
  {
   "cell_type": "code",
   "execution_count": 18,
   "metadata": {},
   "outputs": [
    {
     "data": {
      "text/html": [
       "<div>\n",
       "<style scoped>\n",
       "    .dataframe tbody tr th:only-of-type {\n",
       "        vertical-align: middle;\n",
       "    }\n",
       "\n",
       "    .dataframe tbody tr th {\n",
       "        vertical-align: top;\n",
       "    }\n",
       "\n",
       "    .dataframe thead th {\n",
       "        text-align: right;\n",
       "    }\n",
       "</style>\n",
       "<table border=\"1\" class=\"dataframe\">\n",
       "  <thead>\n",
       "    <tr style=\"text-align: right;\">\n",
       "      <th></th>\n",
       "      <th>MES_ANO_ACIDENTE</th>\n",
       "      <th>NATUREZA_DA_LESAO</th>\n",
       "      <th>AGENTE_CAUSADOR_ACIDENTE</th>\n",
       "      <th>INDICA_OBITO_ACIDENTE</th>\n",
       "      <th>POPULACAO</th>\n",
       "      <th>NOME_MUN</th>\n",
       "      <th>NOME_UF</th>\n",
       "    </tr>\n",
       "  </thead>\n",
       "  <tbody>\n",
       "    <tr>\n",
       "      <th>0</th>\n",
       "      <td>01-JUL-18</td>\n",
       "      <td>Fratura</td>\n",
       "      <td>Escada Movel ou Fixa</td>\n",
       "      <td>Não</td>\n",
       "      <td>1365899</td>\n",
       "      <td>Guarulhos</td>\n",
       "      <td>São Paulo</td>\n",
       "    </tr>\n",
       "    <tr>\n",
       "      <th>1</th>\n",
       "      <td>01-JUL-18</td>\n",
       "      <td>Lesao Imediata, Nic</td>\n",
       "      <td>Metal - Inclui Liga</td>\n",
       "      <td>Não</td>\n",
       "      <td>1365899</td>\n",
       "      <td>Guarulhos</td>\n",
       "      <td>São Paulo</td>\n",
       "    </tr>\n",
       "    <tr>\n",
       "      <th>2</th>\n",
       "      <td>01-JUL-18</td>\n",
       "      <td>Corte, Laceracao, Fe</td>\n",
       "      <td>Vidraria, Fibra de V</td>\n",
       "      <td>Não</td>\n",
       "      <td>93488</td>\n",
       "      <td>Caçapava</td>\n",
       "      <td>São Paulo</td>\n",
       "    </tr>\n",
       "    <tr>\n",
       "      <th>3</th>\n",
       "      <td>01-JUL-18</td>\n",
       "      <td>Fratura</td>\n",
       "      <td>Calcada ou Caminho p</td>\n",
       "      <td>Não</td>\n",
       "      <td>12176866</td>\n",
       "      <td>São Paulo</td>\n",
       "      <td>São Paulo</td>\n",
       "    </tr>\n",
       "    <tr>\n",
       "      <th>4</th>\n",
       "      <td>01-JUL-18</td>\n",
       "      <td>Corte, Laceracao, Fe</td>\n",
       "      <td>Louca de Mesa e Outr</td>\n",
       "      <td>Não</td>\n",
       "      <td>12176866</td>\n",
       "      <td>São Paulo</td>\n",
       "      <td>São Paulo</td>\n",
       "    </tr>\n",
       "    <tr>\n",
       "      <th>5</th>\n",
       "      <td>01-JUL-18</td>\n",
       "      <td>Contusao, Esmagament</td>\n",
       "      <td>Veiculo, Nic</td>\n",
       "      <td>Não</td>\n",
       "      <td>12176866</td>\n",
       "      <td>São Paulo</td>\n",
       "      <td>São Paulo</td>\n",
       "    </tr>\n",
       "    <tr>\n",
       "      <th>6</th>\n",
       "      <td>01-JUL-18</td>\n",
       "      <td>Corte, Laceracao, Fe</td>\n",
       "      <td>Chao - Superficie Ut</td>\n",
       "      <td>Não</td>\n",
       "      <td>160275</td>\n",
       "      <td>São Caetano do Sul</td>\n",
       "      <td>São Paulo</td>\n",
       "    </tr>\n",
       "    <tr>\n",
       "      <th>7</th>\n",
       "      <td>01-JUN-18</td>\n",
       "      <td>Contusao, Esmagament</td>\n",
       "      <td>Metal - Inclui Liga</td>\n",
       "      <td>Não</td>\n",
       "      <td>93736</td>\n",
       "      <td>Votuporanga</td>\n",
       "      <td>São Paulo</td>\n",
       "    </tr>\n",
       "  </tbody>\n",
       "</table>\n",
       "</div>"
      ],
      "text/plain": [
       "  MES_ANO_ACIDENTE     NATUREZA_DA_LESAO AGENTE_CAUSADOR_ACIDENTE  \\\n",
       "0        01-JUL-18               Fratura     Escada Movel ou Fixa   \n",
       "1        01-JUL-18   Lesao Imediata, Nic      Metal - Inclui Liga   \n",
       "2        01-JUL-18  Corte, Laceracao, Fe     Vidraria, Fibra de V   \n",
       "3        01-JUL-18               Fratura     Calcada ou Caminho p   \n",
       "4        01-JUL-18  Corte, Laceracao, Fe     Louca de Mesa e Outr   \n",
       "5        01-JUL-18  Contusao, Esmagament             Veiculo, Nic   \n",
       "6        01-JUL-18  Corte, Laceracao, Fe     Chao - Superficie Ut   \n",
       "7        01-JUN-18  Contusao, Esmagament      Metal - Inclui Liga   \n",
       "\n",
       "  INDICA_OBITO_ACIDENTE  POPULACAO            NOME_MUN    NOME_UF  \n",
       "0                   Não    1365899           Guarulhos  São Paulo  \n",
       "1                   Não    1365899           Guarulhos  São Paulo  \n",
       "2                   Não      93488            Caçapava  São Paulo  \n",
       "3                   Não   12176866           São Paulo  São Paulo  \n",
       "4                   Não   12176866           São Paulo  São Paulo  \n",
       "5                   Não   12176866           São Paulo  São Paulo  \n",
       "6                   Não     160275  São Caetano do Sul  São Paulo  \n",
       "7                   Não      93736         Votuporanga  São Paulo  "
      ]
     },
     "metadata": {},
     "output_type": "display_data"
    },
    {
     "data": {
      "text/plain": [
       "[{'MES_ANO_ACIDENTE': '01-JUL-18',\n",
       "  'NATUREZA_DA_LESAO': 'Fratura',\n",
       "  'AGENTE_CAUSADOR_ACIDENTE': 'Escada Movel ou Fixa',\n",
       "  'INDICA_OBITO_ACIDENTE': 'Não',\n",
       "  'POPULACAO': 1365899,\n",
       "  'NOME_MUN': 'Guarulhos',\n",
       "  'NOME_UF': 'São Paulo'},\n",
       " {'MES_ANO_ACIDENTE': '01-JUL-18',\n",
       "  'NATUREZA_DA_LESAO': 'Lesao Imediata, Nic',\n",
       "  'AGENTE_CAUSADOR_ACIDENTE': 'Metal - Inclui Liga',\n",
       "  'INDICA_OBITO_ACIDENTE': 'Não',\n",
       "  'POPULACAO': 1365899,\n",
       "  'NOME_MUN': 'Guarulhos',\n",
       "  'NOME_UF': 'São Paulo'},\n",
       " {'MES_ANO_ACIDENTE': '01-JUL-18',\n",
       "  'NATUREZA_DA_LESAO': 'Corte, Laceracao, Fe',\n",
       "  'AGENTE_CAUSADOR_ACIDENTE': 'Vidraria, Fibra de V',\n",
       "  'INDICA_OBITO_ACIDENTE': 'Não',\n",
       "  'POPULACAO': 93488,\n",
       "  'NOME_MUN': 'Caçapava',\n",
       "  'NOME_UF': 'São Paulo'},\n",
       " {'MES_ANO_ACIDENTE': '01-JUL-18',\n",
       "  'NATUREZA_DA_LESAO': 'Fratura',\n",
       "  'AGENTE_CAUSADOR_ACIDENTE': 'Calcada ou Caminho p',\n",
       "  'INDICA_OBITO_ACIDENTE': 'Não',\n",
       "  'POPULACAO': 12176866,\n",
       "  'NOME_MUN': 'São Paulo',\n",
       "  'NOME_UF': 'São Paulo'},\n",
       " {'MES_ANO_ACIDENTE': '01-JUL-18',\n",
       "  'NATUREZA_DA_LESAO': 'Corte, Laceracao, Fe',\n",
       "  'AGENTE_CAUSADOR_ACIDENTE': 'Louca de Mesa e Outr',\n",
       "  'INDICA_OBITO_ACIDENTE': 'Não',\n",
       "  'POPULACAO': 12176866,\n",
       "  'NOME_MUN': 'São Paulo',\n",
       "  'NOME_UF': 'São Paulo'}]"
      ]
     },
     "metadata": {},
     "output_type": "display_data"
    }
   ],
   "source": [
    "# Comece a escrever seu código aqui\n",
    "df = pd.read_csv('data_acid.csv', header = 0 ,encoding = \"CP1252\", sep=\",\", index_col=False)\n",
    "print_dataframe(df.head(8))\n",
    "df_dict = df.to_dict('records')\n",
    "print_dataframe(df_dict[:5])"
   ]
  },
  {
   "cell_type": "code",
   "execution_count": 6,
   "metadata": {},
   "outputs": [
    {
     "data": {
      "text/plain": [
       "26628"
      ]
     },
     "execution_count": 6,
     "metadata": {},
     "output_type": "execute_result"
    }
   ],
   "source": [
    "user = 'dupla_9' # coloque o número da sua dupla aqui!\n",
    "pwd = 'topy0ec5' # coloque a senha da sua dupla aqui!\n",
    "client = MongoClient('mongodb://{}:{}@ds151066.mlab.com:51066/datascience'.format(user, pwd))\n",
    "db = client.datascience\n",
    "\n",
    "##db.dupla_9_collection.delete_many({}) ##limpar o banco, para ter a certeza que não terão cargas duplicadas\n",
    "##db.dupla_9_collection.insert_many(df_dict) ##inserção da carga\n",
    "\n",
    "db.dupla_9_collection.count_documents({}) ##conferência do número de registros que contém no banco\n"
   ]
  },
  {
   "cell_type": "markdown",
   "metadata": {},
   "source": [
    "### 1 - Quais os 10 municípios com maior taxa de acidentes por 100 mil habitantes?\n"
   ]
  },
  {
   "cell_type": "code",
   "execution_count": 7,
   "metadata": {},
   "outputs": [],
   "source": [
    "cursor = db.dupla_9_collection"
   ]
  },
  {
   "cell_type": "code",
   "execution_count": 6,
   "metadata": {},
   "outputs": [
    {
     "name": "stdout",
     "output_type": "stream",
     "text": [
      "Município: Borá   -  Taxa:  598.0861244019138\n",
      "Município: Cosmorama   -  Taxa:  300.7107709130672\n",
      "Município: Mendonça   -  Taxa:  258.63661555514506\n",
      "Município: Onda Verde   -  Taxa:  253.51463470845817\n",
      "Município: Pontes Gestal   -  Taxa:  232.8288707799767\n",
      "Município: Suzanápolis   -  Taxa:  230.12017386857582\n",
      "Município: Vista Alegre do Alto   -  Taxa:  208.67145838163694\n",
      "Município: Gavião Peixoto   -  Taxa:  188.99622007559847\n",
      "Município: Ipiguá   -  Taxa:  188.46588767433096\n",
      "Município: Cedral   -  Taxa:  186.3013698630137\n"
     ]
    }
   ],
   "source": [
    "ac_munic = cursor.aggregate([\n",
    "    {'$group': {'_id': {'Município': '$NOME_MUN', 'pop': '$POUPLACAO'}, 'count': {'$sum': 1} } },\n",
    "    {'$project': {'div': {'$divide': ['$count', '$_id.pop'] } } },\n",
    "    {'$project': {'Taxa': {'$multiply': ['$div', 100000] } } },\n",
    "    {'$sort': {'Taxa': -1} },\n",
    "    {'$limit': 10},\n",
    "    {'$project': {'_id.Município': 1, 'Taxa': 1} }\n",
    "])\n",
    "#display(list(ac_munic))\n",
    "acidentes = list(ac_munic)\n",
    "for i in acidentes:\n",
    "    print(str(i['_id']).replace('{', '').replace('}', '').replace('\\'', ''), '  -  Taxa: ', i['Taxa'])\n",
    "\n",
    "# https://docs.mongodb.com/manual/reference/operator/aggregation/divide/\n",
    "# https://docs.mongodb.com/manual/reference/operator/aggregation/multiply/"
   ]
  },
  {
   "cell_type": "markdown",
   "metadata": {},
   "source": [
    "### 2 - Quais as Naturezas das lesões, e correspondentes números de acidentes de trabalho, para naturezas de lesões cujo número de acidentes de trabalho é > 100?\n"
   ]
  },
  {
   "cell_type": "code",
   "execution_count": 8,
   "metadata": {},
   "outputs": [
    {
     "name": "stdout",
     "output_type": "stream",
     "text": [
      "Lesão: Corte, Laceracao, Fe   -  Número de acidentes:  5715\n",
      "Lesão: Contusao, Esmagament   -  Número de acidentes:  4407\n",
      "Lesão: Fratura   -  Número de acidentes:  4215\n",
      "Lesão: Distensao, Torcao   -  Número de acidentes:  2611\n",
      "Lesão: Lesao Imediata, Nic   -  Número de acidentes:  2401\n",
      "Lesão: Escoriacao, Abrasao   -  Número de acidentes:  2097\n",
      "Lesão: Luxacao   -  Número de acidentes:  1400\n",
      "Lesão: Queimadura ou Escald   -  Número de acidentes:  728\n",
      "Lesão: Lesao Imediata   -  Número de acidentes:  659\n",
      "Lesão: Lesoes Multiplas   -  Número de acidentes:  598\n",
      "Lesão: Doenca, Nic   -  Número de acidentes:  458\n",
      "Lesão: Inflamacao de Articu   -  Número de acidentes:  224\n",
      "Lesão: Amputacao ou Enuclea   -  Número de acidentes:  201\n",
      "Lesão: Concussao Cerebral   -  Número de acidentes:  183\n",
      "Lesão: Queimadura Quimica (   -  Número de acidentes:  170\n",
      "Lesão: Doenca Contagiosa ou   -  Número de acidentes:  132\n",
      "Lesão: Perda ou Diminuicao   -  Número de acidentes:  115\n",
      "Lesão: Dermatose (Erupcao,   -  Número de acidentes:  103\n"
     ]
    }
   ],
   "source": [
    "# numero de acidentes são as quantidades de lesoes\n",
    "ac_lesao = cursor.aggregate([\n",
    "    {'$group': {'_id': {'Lesão': '$NATUREZA_DA_LESAO'}, 'count': {'$sum': 1} } },\n",
    "    {'$match': {'count': {'$gt': 100} } },\n",
    "    {'$sort': {'count': -1} },\n",
    "    {'$project': {'_id.Lesão': 1, 'count': 1} }\n",
    "] )\n",
    "#display(list(ac_lesao))\n",
    "acidentes = list(ac_lesao)\n",
    "for i in acidentes:\n",
    "    print(str(i['_id']).replace('{', '').replace('}', '').replace('\\'', ''), '  -  Número de acidentes: ', i['count'])"
   ]
  },
  {
   "cell_type": "markdown",
   "metadata": {},
   "source": [
    "### 3- Quais os agentes causadores de acidentes, e correspondentes números de acidentes, por mês-ano e para acidentes com óbitos, onde o número de óbitos por agente causador é > 2?"
   ]
  },
  {
   "cell_type": "code",
   "execution_count": 9,
   "metadata": {},
   "outputs": [
    {
     "name": "stdout",
     "output_type": "stream",
     "text": [
      "Agente causador: Veiculo Rodoviario M, Data: 01-JAN-19 , Quantidade:  5\n",
      "Agente causador: Motocicleta, Motonet, Data: 01-AUG-18 , Quantidade:  4\n",
      "Agente causador: Veiculo Rodoviario M, Data: 01-OCT-18 , Quantidade:  4\n",
      "Agente causador: Veiculo, Nic, Data: 01-OCT-18 , Quantidade:  4\n",
      "Agente causador: Veiculo, Nic, Data: 01-NOV-18 , Quantidade:  3\n",
      "Agente causador: Veiculo Rodoviario M, Data: 01-AUG-18 , Quantidade:  3\n",
      "Agente causador: Motocicleta, Motonet, Data: 01-FEB-19 , Quantidade:  3\n"
     ]
    }
   ],
   "source": [
    "ag_lesao = cursor.aggregate([\n",
    "    {'$match': {'INDICA_OBITO_ACIDENTE': {'$eq':'Sim'} } },\n",
    "    {'$group': {'_id': {'Agente causador': \"$AGENTE_CAUSADOR_ACIDENTE\", 'Data': \"$MES_ANO_ACIDENTE\"}, 'count': {'$sum': 1} } },\n",
    "    {'$match': {'count': {'$gt': 2} } },\n",
    "    {'$sort': {'count': -1} },\n",
    "    {'$project': {'_id.Agente causador': 1, '_id.Data': 1, 'count': 1} }\n",
    "] )\n",
    "#display(list(ag_lesao))\n",
    "acidentes = list(ag_lesao)\n",
    "for i in acidentes:\n",
    "    print(str(i['_id']).replace('{', '').replace('}', '').replace('\\'', ''), ', Quantidade: ', i['count'])"
   ]
  },
  {
   "cell_type": "markdown",
   "metadata": {},
   "source": [
    "### 1.Quais os 10 municípios que mais possuem acidentes de trabalho? Faça um gráfico de barras para apresentar o resultado."
   ]
  },
  {
   "cell_type": "code",
   "execution_count": 214,
   "metadata": {},
   "outputs": [
    {
     "name": "stdout",
     "output_type": "stream",
     "text": [
      "\t1 - Cidade de São Paulo registrou 7,353 acidentes.\n",
      "\t2 - Cidade de Guarulhos registrou 796 acidentes.\n",
      "\t3 - Cidade de Campinas registrou 742 acidentes.\n",
      "\t4 - Cidade de Ribeirão Preto registrou 579 acidentes.\n",
      "\t5 - Cidade de São Bernardo do Campo registrou 553 acidentes.\n",
      "\t6 - Cidade de São José do Rio Preto registrou 530 acidentes.\n",
      "\t7 - Cidade de Piracicaba registrou 496 acidentes.\n",
      "\t8 - Cidade de Santo André registrou 483 acidentes.\n",
      "\t9 - Cidade de Jundiaí registrou 463 acidentes.\n",
      "\t10 - Cidade de Barueri registrou 408 acidentes.\n"
     ]
    },
    {
     "data": {
      "image/png": "[encoded data removed]",
      "text/plain": [
       "<Figure size 432x288 with 1 Axes>"
      ]
     },
     "metadata": {
      "needs_background": "light"
     },
     "output_type": "display_data"
    }
   ],
   "source": [
    "acid_count = df['NOME_MUN'].value_counts(sort=True, ascending=False)[:10]\n",
    "for i, (index, value) in enumerate(acid_count.items()):\n",
    "    print('\\t{} - Cidade de {} registrou {:,} acidentes.'.format(i+1, index, value))\n",
    "acid_count.plot.barh(color='blue')\n",
    "plt.title('Os 10 munícipios com maior número de acidentes de trabalho são:')\n",
    "plt.xticks(rotation=45)\n",
    "plt.show()"
   ]
  },
  {
   "cell_type": "markdown",
   "metadata": {},
   "source": [
    "### 2.Quais os 10 municípios que mais possuem acidentes de trabalho por 100 mil habitantes? Faça um gráfico de barras para apresentar o resultado."
   ]
  },
  {
   "cell_type": "code",
   "execution_count": 19,
   "metadata": {},
   "outputs": [
    {
     "data": {
      "text/html": [
       "<div>\n",
       "<style scoped>\n",
       "    .dataframe tbody tr th:only-of-type {\n",
       "        vertical-align: middle;\n",
       "    }\n",
       "\n",
       "    .dataframe tbody tr th {\n",
       "        vertical-align: top;\n",
       "    }\n",
       "\n",
       "    .dataframe thead th {\n",
       "        text-align: right;\n",
       "    }\n",
       "</style>\n",
       "<table border=\"1\" class=\"dataframe\">\n",
       "  <thead>\n",
       "    <tr style=\"text-align: right;\">\n",
       "      <th></th>\n",
       "      <th>POPULACAO</th>\n",
       "      <th>ACID_POR_100MIL</th>\n",
       "      <th>TOTAL_ACID</th>\n",
       "    </tr>\n",
       "    <tr>\n",
       "      <th>NOME_MUN</th>\n",
       "      <th></th>\n",
       "      <th></th>\n",
       "      <th></th>\n",
       "    </tr>\n",
       "  </thead>\n",
       "  <tbody>\n",
       "    <tr>\n",
       "      <th>Borá</th>\n",
       "      <td>836</td>\n",
       "      <td>598.09</td>\n",
       "      <td>5</td>\n",
       "    </tr>\n",
       "    <tr>\n",
       "      <th>Cosmorama</th>\n",
       "      <td>7316</td>\n",
       "      <td>300.71</td>\n",
       "      <td>22</td>\n",
       "    </tr>\n",
       "    <tr>\n",
       "      <th>Mendonça</th>\n",
       "      <td>5413</td>\n",
       "      <td>258.64</td>\n",
       "      <td>14</td>\n",
       "    </tr>\n",
       "    <tr>\n",
       "      <th>Onda Verde</th>\n",
       "      <td>4339</td>\n",
       "      <td>253.51</td>\n",
       "      <td>11</td>\n",
       "    </tr>\n",
       "    <tr>\n",
       "      <th>Pontes Gestal</th>\n",
       "      <td>2577</td>\n",
       "      <td>232.83</td>\n",
       "      <td>6</td>\n",
       "    </tr>\n",
       "    <tr>\n",
       "      <th>Suzanápolis</th>\n",
       "      <td>3911</td>\n",
       "      <td>230.12</td>\n",
       "      <td>9</td>\n",
       "    </tr>\n",
       "    <tr>\n",
       "      <th>Vista Alegre do Alto</th>\n",
       "      <td>8626</td>\n",
       "      <td>208.67</td>\n",
       "      <td>18</td>\n",
       "    </tr>\n",
       "    <tr>\n",
       "      <th>Gavião Peixoto</th>\n",
       "      <td>4762</td>\n",
       "      <td>189.00</td>\n",
       "      <td>9</td>\n",
       "    </tr>\n",
       "    <tr>\n",
       "      <th>Ipiguá</th>\n",
       "      <td>5306</td>\n",
       "      <td>188.47</td>\n",
       "      <td>10</td>\n",
       "    </tr>\n",
       "    <tr>\n",
       "      <th>Cedral</th>\n",
       "      <td>9125</td>\n",
       "      <td>186.30</td>\n",
       "      <td>17</td>\n",
       "    </tr>\n",
       "  </tbody>\n",
       "</table>\n",
       "</div>"
      ],
      "text/plain": [
       "                      POPULACAO  ACID_POR_100MIL  TOTAL_ACID\n",
       "NOME_MUN                                                    \n",
       "Borá                        836           598.09           5\n",
       "Cosmorama                  7316           300.71          22\n",
       "Mendonça                   5413           258.64          14\n",
       "Onda Verde                 4339           253.51          11\n",
       "Pontes Gestal              2577           232.83           6\n",
       "Suzanápolis                3911           230.12           9\n",
       "Vista Alegre do Alto       8626           208.67          18\n",
       "Gavião Peixoto             4762           189.00           9\n",
       "Ipiguá                     5306           188.47          10\n",
       "Cedral                     9125           186.30          17"
      ]
     },
     "metadata": {},
     "output_type": "display_data"
    }
   ],
   "source": [
    "mun_pop = df[['NOME_MUN', 'POPULACAO']].drop_duplicates()\n",
    "mun_pop['ACID_POR_100MIL'] = 0\n",
    "mun_pop = mun_pop.set_index('NOME_MUN')\n",
    "\n",
    "total_acid = (df['NOME_MUN'].value_counts())\n",
    "\n",
    "final = pd.merge(mun_pop, total_acid, left_on='NOME_MUN', right_index=True)\n",
    "final = final.rename(columns={'NOME_MUN': 'TOTAL_ACID'})\n",
    "final['ACID_POR_100MIL'] = round((final['TOTAL_ACID']*100000)/final['POPULACAO'],2)\n",
    "final = final.sort_values(['ACID_POR_100MIL'],ascending=False)[:10]\n",
    "print_dataframe(final)\n"
   ]
  },
  {
   "cell_type": "markdown",
   "metadata": {},
   "source": [
    "### 3.Qual a proporção de acidentes de trabalho em relação a cada estado?"
   ]
  },
  {
   "cell_type": "code",
   "execution_count": 20,
   "metadata": {},
   "outputs": [
    {
     "data": {
      "image/png": "[encoded data removed]",
      "text/plain": [
       "<Figure size 432x288 with 1 Axes>"
      ]
     },
     "metadata": {},
     "output_type": "display_data"
    }
   ],
   "source": [
    "acid_count = df['NOME_UF'].value_counts(sort=True, ascending=False)\n",
    "##print_dataframe(acid_count)\n",
    "acid_count.plot.pie(colors = 'yellow')\n",
    "plt.ylabel('')\n",
    "plt.title('Proporção de acidentes de trabalho em relação a cada estado')\n",
    "plt.show()"
   ]
  },
  {
   "cell_type": "markdown",
   "metadata": {},
   "source": [
    "### 4.Qual a natureza da lesão mais comum nos acidentes?"
   ]
  },
  {
   "cell_type": "code",
   "execution_count": 21,
   "metadata": {},
   "outputs": [
    {
     "name": "stdout",
     "output_type": "stream",
     "text": [
      "A natureza da lesão mais frequente é: Corte, Laceracao, Fe, com 5715 acidentes registrados.\n"
     ]
    }
   ],
   "source": [
    "nat_lesao = (df['NATUREZA_DA_LESAO'].value_counts(sort=True, ascending=False)).idxmax()\n",
    "nat_lesao_count = (df['NATUREZA_DA_LESAO'].value_counts(sort=True, ascending=False)).max()\n",
    "print('A natureza da lesão mais frequente é: {}, com {} acidentes registrados.'.format(nat_lesao,nat_lesao_count))\n"
   ]
  },
  {
   "cell_type": "markdown",
   "metadata": {},
   "source": [
    "### 5.Qual é o comportamento do número de acidentes ao longo do tempo? Mostre a evolução do número de acientes utilizando um gráfico de linha."
   ]
  },
  {
   "cell_type": "code",
   "execution_count": 189,
   "metadata": {},
   "outputs": [
    {
     "data": {
      "image/png": "[encoded data removed]",
      "text/plain": [
       "<Figure size 432x288 with 1 Axes>"
      ]
     },
     "metadata": {
      "needs_background": "light"
     },
     "output_type": "display_data"
    }
   ],
   "source": [
    "acid_por_data = pd.DataFrame((pd.to_datetime(df['MES_ANO_ACIDENTE'])).sort_values()).drop_duplicates()\n",
    "acid_por_data = acid_por_data.set_index(['MES_ANO_ACIDENTE'])\n",
    "acid_por_data ['ORDEM'] = np.arange(0, len(acid_por_data))\n",
    "\n",
    "acid_count = pd.DataFrame((pd.to_datetime(df['MES_ANO_ACIDENTE'])).value_counts())\n",
    "acid_tempo = pd.merge(acid_por_data, acid_count, left_on='MES_ANO_ACIDENTE', right_index=True)\n",
    "acid_tempo = acid_tempo.rename(columns={'MES_ANO_ACIDENTE': 'TOTAL_ACID'})\n",
    "\n",
    "acid_tempo.plot(y='TOTAL_ACID')\n",
    "plt.title('Comportamento do número de acidentes ao longo do tempo')\n",
    "plt.xticks(rotation=45)\n",
    "plt.show()"
   ]
  }
 ],
 "metadata": {
  "kernelspec": {
   "display_name": "Python 3",
   "language": "python",
   "name": "python3"
  },
  "language_info": {
   "codemirror_mode": {
    "name": "ipython",
    "version": 3
   },
   "file_extension": ".py",
   "mimetype": "text/x-python",
   "name": "python",
   "nbconvert_exporter": "python",
   "pygments_lexer": "ipython3",
   "version": "3.7.3"
  }
 },
 "nbformat": 4,
 "nbformat_minor": 2
}
